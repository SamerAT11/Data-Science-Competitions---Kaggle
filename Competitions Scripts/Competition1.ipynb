{
 "cells": [
  {
   "cell_type": "markdown",
   "id": "3149ff74",
   "metadata": {
    "papermill": {
     "duration": 0.006926,
     "end_time": "2024-05-01T03:34:39.579413",
     "exception": false,
     "start_time": "2024-05-01T03:34:39.572487",
     "status": "completed"
    },
    "tags": []
   },
   "source": [
    "![Imgur](https://i.imgur.com/VryXoBw.png)\n",
    "\n",
    "## ①　Introduction\n",
    "This is an information about an avid golf player (Player A) who has been playing golf regularly for years. (Of course not everyday!)\n",
    "\n",
    "🎯　Your goal is to make a prediction of whether the value of the column`Play_A` is 0 or 1. \n",
    "\n",
    "You are free to add/remove sections and made any modification to this notebook. Only your final submission will be graded. This notebook will not be graded.\n",
    "\n",
    "In this notebook, you will mainly work on Section ④ (Preprocessing) and Section ⑦ (Model Building)."
   ]
  },
  {
   "cell_type": "markdown",
   "id": "26d51541",
   "metadata": {},
   "source": [
    "* The dataset can be imported from Kaggle using the following API command:\n",
    "    `kaggle competitions download -c prediction-of-golf-play-based-on-weather-condition`"
   ]
  },
  {
   "cell_type": "markdown",
   "id": "43b400be",
   "metadata": {
    "papermill": {
     "duration": 0.005554,
     "end_time": "2024-05-01T03:34:39.593797",
     "exception": false,
     "start_time": "2024-05-01T03:34:39.588243",
     "status": "completed"
    },
    "tags": []
   },
   "source": [
    "## ②　Setting Up the Environment\n",
    "These are all the libraries used in the lecture."
   ]
  },
  {
   "cell_type": "code",
   "execution_count": 1,
   "id": "f67b26b5",
   "metadata": {
    "execution": {
     "iopub.execute_input": "2024-05-01T03:34:39.610064Z",
     "iopub.status.busy": "2024-05-01T03:34:39.609103Z",
     "iopub.status.idle": "2024-05-01T03:34:45.624997Z",
     "shell.execute_reply": "2024-05-01T03:34:45.623587Z"
    },
    "papermill": {
     "duration": 6.028578,
     "end_time": "2024-05-01T03:34:45.628267",
     "exception": false,
     "start_time": "2024-05-01T03:34:39.599689",
     "status": "completed"
    },
    "tags": []
   },
   "outputs": [],
   "source": [
    "# Basic Libraries (L1)\n",
    "import pandas as pd\n",
    "import numpy  as np\n",
    "import warnings\n",
    "warnings.filterwarnings('ignore')\n",
    "\n",
    "# Data Preprocessing (L2)\n",
    "from sklearn.preprocessing import StandardScaler, RobustScaler, MinMaxScaler\n",
    "\n",
    "# Data Exploration (L3)\n",
    "import matplotlib.pyplot as plt\n",
    "import seaborn as sns\n",
    "from scipy.stats import norm, lognorm, expon, uniform, gamma\n",
    "from scipy.stats import probplot, chi2_contingency\n",
    "\n",
    "# Basic Classifiers & Regressors (L4-5)\n",
    "from sklearn.linear_model import LogisticRegression,     LinearRegression, Lasso, Ridge\n",
    "from sklearn.naive_bayes  import BernoulliNB,            GaussianNB\n",
    "from sklearn.neighbors    import KNeighborsClassifier,   KNeighborsRegressor\n",
    "from sklearn.dummy        import DummyClassifier,        DummyRegressor\n",
    "from sklearn.tree         import DecisionTreeClassifier, DecisionTreeRegressor, plot_tree\n",
    "from sklearn.svm          import SVC,                    SVR\n",
    "\n",
    "# Ensemble Classifiers & Regressors (L6)\n",
    "from sklearn.ensemble     import GradientBoostingClassifier, GradientBoostingRegressor\n",
    "from sklearn.ensemble     import RandomForestClassifier,     RandomForestRegressor\n",
    "from sklearn.ensemble     import StackingClassifier,         StackingRegressor\n",
    "from sklearn.ensemble     import AdaBoostClassifier,         AdaBoostRegressor\n",
    "from sklearn.ensemble     import BaggingClassifier,          BaggingRegressor\n",
    "from sklearn.ensemble     import VotingClassifier,           VotingRegressor\n",
    "from catboost             import CatBoostClassifier,         CatBoostRegressor\n",
    "import lightgbm as lgb\n",
    "import xgboost  as xgb\n",
    "\n",
    "# Classification & Regression Metrics (L7)\n",
    "from sklearn.metrics      import accuracy_score, precision_score, recall_score, f1_score\n",
    "from sklearn.metrics      import confusion_matrix\n",
    "from sklearn.metrics      import roc_curve, roc_auc_score\n",
    "from sklearn.metrics      import mean_squared_error, mean_absolute_error\n",
    "from sklearn.metrics      import median_absolute_error, mean_squared_log_error\n",
    "from sklearn.metrics      import r2_score\n",
    "\n",
    "# Model Calibration (L7)\n",
    "from sklearn.calibration  import calibration_curve\n",
    "from sklearn.metrics      import brier_score_loss, log_loss\n",
    "\n",
    "# Model Selection & Validation (L7)\n",
    "from sklearn.model_selection import train_test_split\n",
    "from sklearn.model_selection import cross_val_score, KFold, StratifiedKFold, LeaveOneOut\n",
    "\n",
    "# Hyperparameter Optimization (L7)\n",
    "from sklearn.model_selection import GridSearchCV, RandomizedSearchCV\n",
    "from skopt                   import BayesSearchCV\n",
    "from skopt.space             import Real, Categorical, Integer\n",
    "\n",
    "# Multiclass Classification (L8)\n",
    "from sklearn.multiclass      import OneVsOneClassifier,    OneVsRestClassifier\n",
    "from sklearn.metrics         import classification_report, precision_recall_fscore_support\n",
    "\n",
    "# Model Weighting (L8)\n",
    "from sklearn.utils.class_weight import compute_sample_weight\n",
    "\n",
    "# Resampling Techniques (L8)\n",
    "from imblearn.over_sampling  import RandomOverSampler,  SMOTE,    ADASYN\n",
    "from imblearn.under_sampling import RandomUnderSampler, NearMiss, TomekLinks\n",
    "from imblearn.combine        import SMOTEENN"
   ]
  },
  {
   "cell_type": "markdown",
   "id": "b538888b",
   "metadata": {
    "papermill": {
     "duration": 0.005512,
     "end_time": "2024-05-01T03:34:45.641060",
     "exception": false,
     "start_time": "2024-05-01T03:34:45.635548",
     "status": "completed"
    },
    "tags": []
   },
   "source": [
    "## ③　Data Loading\n",
    "Note that the target values of the test data is missing (NaN). This is hidden from you and your job is to predict them."
   ]
  },
  {
   "cell_type": "code",
   "execution_count": 2,
   "id": "e94ea837",
   "metadata": {
    "execution": {
     "iopub.execute_input": "2024-05-01T03:34:45.656804Z",
     "iopub.status.busy": "2024-05-01T03:34:45.655865Z",
     "iopub.status.idle": "2024-05-01T03:34:45.736317Z",
     "shell.execute_reply": "2024-05-01T03:34:45.735159Z"
    },
    "papermill": {
     "duration": 0.091853,
     "end_time": "2024-05-01T03:34:45.739226",
     "exception": false,
     "start_time": "2024-05-01T03:34:45.647373",
     "status": "completed"
    },
    "tags": []
   },
   "outputs": [
    {
     "data": {
      "text/html": [
       "<div>\n",
       "<style scoped>\n",
       "    .dataframe tbody tr th:only-of-type {\n",
       "        vertical-align: middle;\n",
       "    }\n",
       "\n",
       "    .dataframe tbody tr th {\n",
       "        vertical-align: top;\n",
       "    }\n",
       "\n",
       "    .dataframe thead th {\n",
       "        text-align: right;\n",
       "    }\n",
       "</style>\n",
       "<table border=\"1\" class=\"dataframe\">\n",
       "  <thead>\n",
       "    <tr style=\"text-align: right;\">\n",
       "      <th></th>\n",
       "      <th>Weekday</th>\n",
       "      <th>Month</th>\n",
       "      <th>Season</th>\n",
       "      <th>Holiday</th>\n",
       "      <th>Temperature</th>\n",
       "      <th>Humidity</th>\n",
       "      <th>Windy</th>\n",
       "      <th>Outlook</th>\n",
       "      <th>Crowdedness</th>\n",
       "      <th>Play_A</th>\n",
       "    </tr>\n",
       "    <tr>\n",
       "      <th>Date</th>\n",
       "      <th></th>\n",
       "      <th></th>\n",
       "      <th></th>\n",
       "      <th></th>\n",
       "      <th></th>\n",
       "      <th></th>\n",
       "      <th></th>\n",
       "      <th></th>\n",
       "      <th></th>\n",
       "      <th></th>\n",
       "    </tr>\n",
       "  </thead>\n",
       "  <tbody>\n",
       "    <tr>\n",
       "      <th>2021-01-01</th>\n",
       "      <td>4</td>\n",
       "      <td>Jan</td>\n",
       "      <td>Winter</td>\n",
       "      <td>1</td>\n",
       "      <td>3.3</td>\n",
       "      <td>49.0</td>\n",
       "      <td>1</td>\n",
       "      <td>sunny</td>\n",
       "      <td>0.73</td>\n",
       "      <td>1.0</td>\n",
       "    </tr>\n",
       "    <tr>\n",
       "      <th>2021-01-02</th>\n",
       "      <td>5</td>\n",
       "      <td>Jan</td>\n",
       "      <td>Winter</td>\n",
       "      <td>0</td>\n",
       "      <td>2.9</td>\n",
       "      <td>53.0</td>\n",
       "      <td>0</td>\n",
       "      <td>sunny</td>\n",
       "      <td>0.74</td>\n",
       "      <td>1.0</td>\n",
       "    </tr>\n",
       "    <tr>\n",
       "      <th>2021-01-03</th>\n",
       "      <td>6</td>\n",
       "      <td>Jan</td>\n",
       "      <td>Winter</td>\n",
       "      <td>0</td>\n",
       "      <td>2.3</td>\n",
       "      <td>58.0</td>\n",
       "      <td>0</td>\n",
       "      <td>overcast</td>\n",
       "      <td>0.70</td>\n",
       "      <td>0.0</td>\n",
       "    </tr>\n",
       "    <tr>\n",
       "      <th>2021-01-04</th>\n",
       "      <td>0</td>\n",
       "      <td>Jan</td>\n",
       "      <td>Winter</td>\n",
       "      <td>0</td>\n",
       "      <td>3.0</td>\n",
       "      <td>45.0</td>\n",
       "      <td>0</td>\n",
       "      <td>overcast</td>\n",
       "      <td>0.61</td>\n",
       "      <td>0.0</td>\n",
       "    </tr>\n",
       "    <tr>\n",
       "      <th>2021-01-05</th>\n",
       "      <td>1</td>\n",
       "      <td>Jan</td>\n",
       "      <td>Winter</td>\n",
       "      <td>0</td>\n",
       "      <td>3.1</td>\n",
       "      <td>31.0</td>\n",
       "      <td>1</td>\n",
       "      <td>sunny</td>\n",
       "      <td>0.52</td>\n",
       "      <td>0.0</td>\n",
       "    </tr>\n",
       "    <tr>\n",
       "      <th>...</th>\n",
       "      <td>...</td>\n",
       "      <td>...</td>\n",
       "      <td>...</td>\n",
       "      <td>...</td>\n",
       "      <td>...</td>\n",
       "      <td>...</td>\n",
       "      <td>...</td>\n",
       "      <td>...</td>\n",
       "      <td>...</td>\n",
       "      <td>...</td>\n",
       "    </tr>\n",
       "    <tr>\n",
       "      <th>2023-12-27</th>\n",
       "      <td>2</td>\n",
       "      <td>Dec</td>\n",
       "      <td>Winter</td>\n",
       "      <td>0</td>\n",
       "      <td>7.1</td>\n",
       "      <td>48.0</td>\n",
       "      <td>1</td>\n",
       "      <td>sunny</td>\n",
       "      <td>0.60</td>\n",
       "      <td>NaN</td>\n",
       "    </tr>\n",
       "    <tr>\n",
       "      <th>2023-12-28</th>\n",
       "      <td>3</td>\n",
       "      <td>Dec</td>\n",
       "      <td>Winter</td>\n",
       "      <td>0</td>\n",
       "      <td>6.6</td>\n",
       "      <td>55.0</td>\n",
       "      <td>0</td>\n",
       "      <td>overcast</td>\n",
       "      <td>0.60</td>\n",
       "      <td>NaN</td>\n",
       "    </tr>\n",
       "    <tr>\n",
       "      <th>2023-12-29</th>\n",
       "      <td>4</td>\n",
       "      <td>Dec</td>\n",
       "      <td>Winter</td>\n",
       "      <td>0</td>\n",
       "      <td>6.3</td>\n",
       "      <td>30.0</td>\n",
       "      <td>1</td>\n",
       "      <td>overcast</td>\n",
       "      <td>0.67</td>\n",
       "      <td>NaN</td>\n",
       "    </tr>\n",
       "    <tr>\n",
       "      <th>2023-12-30</th>\n",
       "      <td>5</td>\n",
       "      <td>Dec</td>\n",
       "      <td>Winter</td>\n",
       "      <td>0</td>\n",
       "      <td>4.3</td>\n",
       "      <td>54.0</td>\n",
       "      <td>1</td>\n",
       "      <td>overcast</td>\n",
       "      <td>0.68</td>\n",
       "      <td>NaN</td>\n",
       "    </tr>\n",
       "    <tr>\n",
       "      <th>2023-12-31</th>\n",
       "      <td>6</td>\n",
       "      <td>Dec</td>\n",
       "      <td>Winter</td>\n",
       "      <td>0</td>\n",
       "      <td>1.8</td>\n",
       "      <td>43.0</td>\n",
       "      <td>0</td>\n",
       "      <td>snow</td>\n",
       "      <td>0.57</td>\n",
       "      <td>NaN</td>\n",
       "    </tr>\n",
       "  </tbody>\n",
       "</table>\n",
       "<p>1095 rows × 10 columns</p>\n",
       "</div>"
      ],
      "text/plain": [
       "            Weekday Month  Season  Holiday  Temperature  Humidity  Windy  \\\n",
       "Date                                                                       \n",
       "2021-01-01        4   Jan  Winter        1          3.3      49.0      1   \n",
       "2021-01-02        5   Jan  Winter        0          2.9      53.0      0   \n",
       "2021-01-03        6   Jan  Winter        0          2.3      58.0      0   \n",
       "2021-01-04        0   Jan  Winter        0          3.0      45.0      0   \n",
       "2021-01-05        1   Jan  Winter        0          3.1      31.0      1   \n",
       "...             ...   ...     ...      ...          ...       ...    ...   \n",
       "2023-12-27        2   Dec  Winter        0          7.1      48.0      1   \n",
       "2023-12-28        3   Dec  Winter        0          6.6      55.0      0   \n",
       "2023-12-29        4   Dec  Winter        0          6.3      30.0      1   \n",
       "2023-12-30        5   Dec  Winter        0          4.3      54.0      1   \n",
       "2023-12-31        6   Dec  Winter        0          1.8      43.0      0   \n",
       "\n",
       "             Outlook  Crowdedness  Play_A  \n",
       "Date                                       \n",
       "2021-01-01     sunny         0.73     1.0  \n",
       "2021-01-02     sunny         0.74     1.0  \n",
       "2021-01-03  overcast         0.70     0.0  \n",
       "2021-01-04  overcast         0.61     0.0  \n",
       "2021-01-05     sunny         0.52     0.0  \n",
       "...              ...          ...     ...  \n",
       "2023-12-27     sunny         0.60     NaN  \n",
       "2023-12-28  overcast         0.60     NaN  \n",
       "2023-12-29  overcast         0.67     NaN  \n",
       "2023-12-30  overcast         0.68     NaN  \n",
       "2023-12-31      snow         0.57     NaN  \n",
       "\n",
       "[1095 rows x 10 columns]"
      ]
     },
     "execution_count": 2,
     "metadata": {},
     "output_type": "execute_result"
    }
   ],
   "source": [
    "# Load the dataset\n",
    "train_url = \"/kaggle/input/prediction-of-golf-play-based-on-weather-condition/train.csv\"\n",
    "test_url  = \"/kaggle/input/prediction-of-golf-play-based-on-weather-condition/test.csv\"\n",
    "\n",
    "df_train = pd.read_csv(train_url, index_col=0)\n",
    "df_test = pd.read_csv(test_url, index_col=0)\n",
    "\n",
    "df = pd.concat([df_train,df_test], axis=0)\n",
    "\n",
    "df"
   ]
  },
  {
   "cell_type": "markdown",
   "id": "d533bc3b",
   "metadata": {
    "papermill": {
     "duration": 0.006057,
     "end_time": "2024-05-01T03:34:45.751811",
     "exception": false,
     "start_time": "2024-05-01T03:34:45.745754",
     "status": "completed"
    },
    "tags": []
   },
   "source": [
    "## ④　Combined Preprocessing"
   ]
  },
  {
   "cell_type": "code",
   "execution_count": 3,
   "id": "0c3fa117",
   "metadata": {
    "execution": {
     "iopub.execute_input": "2024-05-01T03:34:45.766583Z",
     "iopub.status.busy": "2024-05-01T03:34:45.766040Z",
     "iopub.status.idle": "2024-05-01T03:34:45.783392Z",
     "shell.execute_reply": "2024-05-01T03:34:45.782376Z"
    },
    "papermill": {
     "duration": 0.028168,
     "end_time": "2024-05-01T03:34:45.786242",
     "exception": false,
     "start_time": "2024-05-01T03:34:45.758074",
     "status": "completed"
    },
    "tags": []
   },
   "outputs": [],
   "source": [
    "# Preprocess the Dataset here. \n",
    "df = pd.get_dummies(df) # Converting categorical to dummies (to get you started!)"
   ]
  },
  {
   "cell_type": "markdown",
   "id": "e03090ca",
   "metadata": {
    "papermill": {
     "duration": 0.006083,
     "end_time": "2024-05-01T03:34:45.798997",
     "exception": false,
     "start_time": "2024-05-01T03:34:45.792914",
     "status": "completed"
    },
    "tags": []
   },
   "source": [
    "## ⑤　Exploratory Data Analysis"
   ]
  },
  {
   "cell_type": "code",
   "execution_count": 4,
   "id": "dfd08439",
   "metadata": {
    "execution": {
     "iopub.execute_input": "2024-05-01T03:34:45.814057Z",
     "iopub.status.busy": "2024-05-01T03:34:45.813255Z",
     "iopub.status.idle": "2024-05-01T03:34:47.762256Z",
     "shell.execute_reply": "2024-05-01T03:34:47.760552Z"
    },
    "papermill": {
     "duration": 1.959963,
     "end_time": "2024-05-01T03:34:47.765315",
     "exception": false,
     "start_time": "2024-05-01T03:34:45.805352",
     "status": "completed"
    },
    "tags": []
   },
   "outputs": [
    {
     "name": "stdout",
     "output_type": "stream",
     "text": [
      "           Weekday      Holiday  Temperature     Humidity        Windy  \\\n",
      "count  1095.000000  1095.000000  1095.000000  1095.000000  1095.000000   \n",
      "mean      3.005479     0.044749    13.435525    61.525114     0.507763   \n",
      "std       2.001363     0.206846     8.043321    14.435162     0.500168   \n",
      "min       0.000000     0.000000    -2.000000    18.000000     0.000000   \n",
      "25%       1.000000     0.000000     6.000000    52.000000     0.000000   \n",
      "50%       3.000000     0.000000    13.800000    61.000000     1.000000   \n",
      "75%       5.000000     0.000000    20.500000    72.000000     1.000000   \n",
      "max       6.000000     1.000000    29.500000    99.000000     1.000000   \n",
      "\n",
      "       Crowdedness      Play_A  \n",
      "count  1095.000000  730.000000  \n",
      "mean      0.620721    0.202740  \n",
      "std       0.150474    0.402316  \n",
      "min       0.000000    0.000000  \n",
      "25%       0.530000    0.000000  \n",
      "50%       0.630000    0.000000  \n",
      "75%       0.720000    0.000000  \n",
      "max       1.000000    1.000000  \n"
     ]
    },
    {
     "data": {
      "image/png": "[encoded data removed]",
      "text/plain": [
       "<Figure size 1200x1000 with 9 Axes>"
      ]
     },
     "metadata": {},
     "output_type": "display_data"
    },
    {
     "data": {
      "image/png": "[encoded data removed]",
      "text/plain": [
       "<Figure size 800x600 with 1 Axes>"
      ]
     },
     "metadata": {},
     "output_type": "display_data"
    }
   ],
   "source": [
    "# Perform EDA here. (If you're too lazy, you can skip this.)\n",
    "# Basic Overview of our data\n",
    "print(df.describe())\n",
    "\n",
    "# Data Distribution - Histograms\n",
    "df.hist(figsize=(12, 10))\n",
    "plt.show()\n",
    "\n",
    "# Target Variable Analysis (if applicable)\n",
    "# For example, assuming 'target_variable' is your target variable\n",
    "plt.figure(figsize=(8, 6))\n",
    "sns.countplot(x='Play_A', data=df)\n",
    "plt.show()"
   ]
  },
  {
   "cell_type": "markdown",
   "id": "d9508a0e",
   "metadata": {
    "papermill": {
     "duration": 0.008566,
     "end_time": "2024-05-01T03:34:47.782419",
     "exception": false,
     "start_time": "2024-05-01T03:34:47.773853",
     "status": "completed"
    },
    "tags": []
   },
   "source": [
    "## ⑦　Data Splitting for Modeling\n",
    "Training data: Rows where `Play_A` is not missing.\n",
    "Testing data: Rows where `Play_A` is missing."
   ]
  },
  {
   "cell_type": "code",
   "execution_count": 5,
   "id": "63cc9ca0",
   "metadata": {
    "execution": {
     "iopub.execute_input": "2024-05-01T03:34:47.800881Z",
     "iopub.status.busy": "2024-05-01T03:34:47.800407Z",
     "iopub.status.idle": "2024-05-01T03:34:47.814194Z",
     "shell.execute_reply": "2024-05-01T03:34:47.812885Z"
    },
    "papermill": {
     "duration": 0.026247,
     "end_time": "2024-05-01T03:34:47.816838",
     "exception": false,
     "start_time": "2024-05-01T03:34:47.790591",
     "status": "completed"
    },
    "tags": []
   },
   "outputs": [],
   "source": [
    "# Split the processed data back into training and testing sets.\n",
    "df_train = df[df['Play_A'].notna()]\n",
    "df_test = df[df['Play_A'].isna()]\n",
    "\n",
    "X_train, y_train = df_train.drop('Play_A', axis=1), df_train['Play_A']\n",
    "X_test = df_test.drop('Play_A', axis=1)"
   ]
  },
  {
   "cell_type": "markdown",
   "id": "b8bd0237",
   "metadata": {
    "papermill": {
     "duration": 0.008007,
     "end_time": "2024-05-01T03:34:47.833411",
     "exception": false,
     "start_time": "2024-05-01T03:34:47.825404",
     "status": "completed"
    },
    "tags": []
   },
   "source": [
    "## ⑧　Model Building\n",
    "Perform your model building, evaluation, validation, and hyperparameter tuning here."
   ]
  },
  {
   "cell_type": "code",
   "execution_count": 6,
   "id": "ca804742",
   "metadata": {
    "execution": {
     "iopub.execute_input": "2024-05-01T03:34:47.852115Z",
     "iopub.status.busy": "2024-05-01T03:34:47.851644Z",
     "iopub.status.idle": "2024-05-01T03:34:50.169655Z",
     "shell.execute_reply": "2024-05-01T03:34:50.168447Z"
    },
    "papermill": {
     "duration": 2.330446,
     "end_time": "2024-05-01T03:34:50.172292",
     "exception": false,
     "start_time": "2024-05-01T03:34:47.841846",
     "status": "completed"
    },
    "tags": []
   },
   "outputs": [
    {
     "name": "stdout",
     "output_type": "stream",
     "text": [
      "Precision: 0.99 ± 0.04\n"
     ]
    }
   ],
   "source": [
    "# Define & fit the classifier model\n",
    "# Define & fit the model\n",
    "clf = VotingClassifier(estimators=[\n",
    "                                ('knn', KNeighborsClassifier(n_neighbors=3)),\n",
    "                                ('dt', DecisionTreeClassifier(max_depth=3)),\n",
    "                                ('lr', LogisticRegression(C=0.1)),\n",
    "                                ('brn', BernoulliNB()),\n",
    "                                ('svc', SVC()),\n",
    "                                ('ada', AdaBoostClassifier())\n",
    "                              ])\n",
    "clf.fit(X_train, y_train)\n",
    "\n",
    "# Perform cross-validation to check Performance\n",
    "scores = cross_val_score(clf, X_train, y_train, cv=5, scoring='precision')\n",
    "\n",
    "# Evaluate the model\n",
    "print(f\"Precision: {scores.mean().round(3)} ± {2*scores.std().round(3)}\" )"
   ]
  },
  {
   "cell_type": "markdown",
   "id": "1ec63cee",
   "metadata": {
    "papermill": {
     "duration": 0.007954,
     "end_time": "2024-05-01T03:34:50.188600",
     "exception": false,
     "start_time": "2024-05-01T03:34:50.180646",
     "status": "completed"
    },
    "tags": []
   },
   "source": [
    "## ⑨　Making Predictions on Test Data "
   ]
  },
  {
   "cell_type": "code",
   "execution_count": 7,
   "id": "a00190f8",
   "metadata": {
    "execution": {
     "iopub.execute_input": "2024-05-01T03:34:50.208173Z",
     "iopub.status.busy": "2024-05-01T03:34:50.207289Z",
     "iopub.status.idle": "2024-05-01T03:34:50.322053Z",
     "shell.execute_reply": "2024-05-01T03:34:50.320355Z"
    },
    "papermill": {
     "duration": 0.130206,
     "end_time": "2024-05-01T03:34:50.327034",
     "exception": false,
     "start_time": "2024-05-01T03:34:50.196828",
     "status": "completed"
    },
    "tags": []
   },
   "outputs": [],
   "source": [
    "# Make Prediction of the Unseen Data\n",
    "y_pred = clf.predict(X_test)"
   ]
  },
  {
   "cell_type": "markdown",
   "id": "f0be7d28",
   "metadata": {
    "papermill": {
     "duration": 0.00941,
     "end_time": "2024-05-01T03:34:50.379249",
     "exception": false,
     "start_time": "2024-05-01T03:34:50.369839",
     "status": "completed"
    },
    "tags": []
   },
   "source": [
    "## ⑩　Submitting the Prediction"
   ]
  },
  {
   "cell_type": "code",
   "execution_count": 8,
   "id": "16185a54",
   "metadata": {
    "execution": {
     "iopub.execute_input": "2024-05-01T03:34:50.403636Z",
     "iopub.status.busy": "2024-05-01T03:34:50.402916Z",
     "iopub.status.idle": "2024-05-01T03:34:50.428010Z",
     "shell.execute_reply": "2024-05-01T03:34:50.426492Z"
    },
    "papermill": {
     "duration": 0.043122,
     "end_time": "2024-05-01T03:34:50.430945",
     "exception": false,
     "start_time": "2024-05-01T03:34:50.387823",
     "status": "completed"
    },
    "tags": []
   },
   "outputs": [
    {
     "data": {
      "text/html": [
       "<div>\n",
       "<style scoped>\n",
       "    .dataframe tbody tr th:only-of-type {\n",
       "        vertical-align: middle;\n",
       "    }\n",
       "\n",
       "    .dataframe tbody tr th {\n",
       "        vertical-align: top;\n",
       "    }\n",
       "\n",
       "    .dataframe thead th {\n",
       "        text-align: right;\n",
       "    }\n",
       "</style>\n",
       "<table border=\"1\" class=\"dataframe\">\n",
       "  <thead>\n",
       "    <tr style=\"text-align: right;\">\n",
       "      <th></th>\n",
       "      <th>Play_A</th>\n",
       "    </tr>\n",
       "    <tr>\n",
       "      <th>Date</th>\n",
       "      <th></th>\n",
       "    </tr>\n",
       "  </thead>\n",
       "  <tbody>\n",
       "    <tr>\n",
       "      <th>2023-01-01</th>\n",
       "      <td>0.0</td>\n",
       "    </tr>\n",
       "    <tr>\n",
       "      <th>2023-01-02</th>\n",
       "      <td>0.0</td>\n",
       "    </tr>\n",
       "    <tr>\n",
       "      <th>2023-01-03</th>\n",
       "      <td>0.0</td>\n",
       "    </tr>\n",
       "    <tr>\n",
       "      <th>2023-01-04</th>\n",
       "      <td>0.0</td>\n",
       "    </tr>\n",
       "    <tr>\n",
       "      <th>2023-01-05</th>\n",
       "      <td>0.0</td>\n",
       "    </tr>\n",
       "    <tr>\n",
       "      <th>...</th>\n",
       "      <td>...</td>\n",
       "    </tr>\n",
       "    <tr>\n",
       "      <th>2023-12-27</th>\n",
       "      <td>0.0</td>\n",
       "    </tr>\n",
       "    <tr>\n",
       "      <th>2023-12-28</th>\n",
       "      <td>0.0</td>\n",
       "    </tr>\n",
       "    <tr>\n",
       "      <th>2023-12-29</th>\n",
       "      <td>0.0</td>\n",
       "    </tr>\n",
       "    <tr>\n",
       "      <th>2023-12-30</th>\n",
       "      <td>0.0</td>\n",
       "    </tr>\n",
       "    <tr>\n",
       "      <th>2023-12-31</th>\n",
       "      <td>0.0</td>\n",
       "    </tr>\n",
       "  </tbody>\n",
       "</table>\n",
       "<p>365 rows × 1 columns</p>\n",
       "</div>"
      ],
      "text/plain": [
       "            Play_A\n",
       "Date              \n",
       "2023-01-01     0.0\n",
       "2023-01-02     0.0\n",
       "2023-01-03     0.0\n",
       "2023-01-04     0.0\n",
       "2023-01-05     0.0\n",
       "...            ...\n",
       "2023-12-27     0.0\n",
       "2023-12-28     0.0\n",
       "2023-12-29     0.0\n",
       "2023-12-30     0.0\n",
       "2023-12-31     0.0\n",
       "\n",
       "[365 rows x 1 columns]"
      ]
     },
     "execution_count": 8,
     "metadata": {},
     "output_type": "execute_result"
    }
   ],
   "source": [
    "# Make DataFrame for Submission\n",
    "submission = pd.DataFrame(y_pred, index=df_test.index, columns=['Play_A'])\n",
    "\n",
    "# Make a CSV file for Submission\n",
    "submission.to_csv('submission.csv')\n",
    "\n",
    "submission"
   ]
  }
 ],
 "metadata": {
  "kaggle": {
   "accelerator": "none",
   "dataSources": [
    {
     "databundleVersionId": 7128883,
     "sourceId": 64922,
     "sourceType": "competition"
    }
   ],
   "dockerImageVersionId": 30587,
   "isGpuEnabled": false,
   "isInternetEnabled": false,
   "language": "python",
   "sourceType": "notebook"
  },
  "kernelspec": {
   "display_name": "Python 3",
   "language": "python",
   "name": "python3"
  },
  "language_info": {
   "codemirror_mode": {
    "name": "ipython",
    "version": 3
   },
   "file_extension": ".py",
   "mimetype": "text/x-python",
   "name": "python",
   "nbconvert_exporter": "python",
   "pygments_lexer": "ipython3",
   "version": "3.10.12"
  },
  "papermill": {
   "default_parameters": {},
   "duration": 17.002695,
   "end_time": "2024-05-01T03:34:51.668010",
   "environment_variables": {},
   "exception": null,
   "input_path": "__notebook__.ipynb",
   "output_path": "__notebook__.ipynb",
   "parameters": {},
   "start_time": "2024-05-01T03:34:34.665315",
   "version": "2.4.0"
  }
 },
 "nbformat": 4,
 "nbformat_minor": 5
}
